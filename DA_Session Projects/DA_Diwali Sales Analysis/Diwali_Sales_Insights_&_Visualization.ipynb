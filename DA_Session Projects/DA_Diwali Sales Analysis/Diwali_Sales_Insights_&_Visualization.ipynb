{
  "nbformat": 4,
  "nbformat_minor": 0,
  "metadata": {
    "colab": {
      "provenance": []
    },
    "kernelspec": {
      "name": "python3",
      "display_name": "Python 3"
    },
    "language_info": {
      "name": "python"
    }
  },
  "cells": [
    {
      "cell_type": "markdown",
      "source": [
        "### **Draw the below insights for the Diwali_sales_data**\n",
        "\n",
        "1.Classifying sales on the bases of Category of product and Gender.\n",
        "\n",
        "2.Analyzing sales with Age Group and Occupation.\n",
        "\n",
        "3.Hypothesis 1: which product category has more profilt margin?\n",
        "\n",
        "4.Hypothesis 2: Which state has more orders?\n",
        "\n",
        "5.Hypothesis 3: which martial status has more sales?"
      ],
      "metadata": {
        "id": "vDq0Zau05xse"
      }
    },
    {
      "cell_type": "code",
      "source": [
        "import pandas as pd\n",
        "from google.colab import drive\n",
        "\n",
        "# Mount Google Drive\n",
        "drive.mount('/content/drive')\n",
        "\n",
        "# Specify the path to the CSV file in your Drive\n",
        "path = '/content/drive/My Drive/Diwali_Sales_Data.csv'\n",
        "\n",
        "# Read the CSV file and gather the data\n",
        "df = pd.read_csv(path,index_col=0, encoding='windows-1252')\n",
        "print(df)"
      ],
      "metadata": {
        "id": "yFzJ4FGR8-_8"
      },
      "execution_count": null,
      "outputs": []
    },
    {
      "cell_type": "markdown",
      "source": [
        "**Classifying sales on the basis of Category of product and Gender.**\n",
        "\n",
        "\n",
        "**Let us analyze product categories on the bases of gender. Which gender is more interested in which category?**"
      ],
      "metadata": {
        "id": "glR2YMln57ir"
      }
    },
    {
      "cell_type": "code",
      "execution_count": null,
      "metadata": {
        "id": "nzm-w13j4dNn"
      },
      "outputs": [],
      "source": [
        "import seaborn as sns\n",
        "import matplotlib.pyplot as plt\n",
        "plt.xticks(rotation=83)\n",
        "sns.countplot(x='Product_Category', hue='Gender', data=df)"
      ]
    },
    {
      "cell_type": "markdown",
      "source": [
        " **Analyzing sales with Age Group and Occupation**"
      ],
      "metadata": {
        "id": "nHo_F-j-6NcV"
      }
    },
    {
      "cell_type": "code",
      "source": [
        "plt.figure(figsize=(20,8))\n",
        "plt.xticks(rotation=83)\n",
        "sns.countplot(x='Occupation', hue='Age Group', data=df, edgecolor='black')\n",
        "plt.show()\n"
      ],
      "metadata": {
        "id": "mrnjEDuq6Rzb"
      },
      "execution_count": null,
      "outputs": []
    },
    {
      "cell_type": "markdown",
      "source": [
        "**Hypothesis 1: Clothing and apparel have the highest profit margin compared to other product categories.**\n",
        "\n",
        "**Using bar plot with matplotlib library**"
      ],
      "metadata": {
        "id": "4MLV2EUM98Mn"
      }
    },
    {
      "cell_type": "code",
      "source": [
        "# Sales Contribution by Category\n",
        "category_sales = df.groupby('Product_Category')['Orders'].sum()\n",
        "# Convert the Series to DataFrame by resetting index\n",
        "category_sales = category_sales.reset_index()\n",
        "print(category_sales)\n",
        "plt.figure(figsize=(10, 8))\n",
        "category_sales.plot(x='Product_Category', y='Orders', kind='bar', color='skyblue')\n",
        "plt.title('Sales Contribution by Category')\n",
        "plt.ylabel('Total Sales')\n",
        "plt.xlabel('Product_Category')\n",
        "plt.xticks(rotation=83)\n",
        "plt.tight_layout()\n",
        "plt.show()"
      ],
      "metadata": {
        "id": "M5MELwpn-RUS"
      },
      "execution_count": null,
      "outputs": []
    },
    {
      "cell_type": "markdown",
      "source": [
        "**Hypothesis 2: Which state has more orders?**"
      ],
      "metadata": {
        "id": "IyXJrMQu-w7A"
      }
    },
    {
      "cell_type": "code",
      "source": [
        "# Sales Contribution by State\n",
        "category_sales = df.groupby('State')['Orders'].sum()\n",
        "# Convert the Series to DataFrame by resetting index\n",
        "category_sales = category_sales.reset_index()\n",
        "print(category_sales)\n",
        "plt.figure(figsize=(10, 8))\n",
        "category_sales.plot(x='State', y='Orders', kind='bar', color='cyan')\n",
        "plt.title('Sales Contribution by State')\n",
        "plt.ylabel('Total Sales')\n",
        "plt.xlabel('State')\n",
        "plt.xticks(rotation=83)\n",
        "plt.tight_layout()\n",
        "plt.show()"
      ],
      "metadata": {
        "id": "VJH1iK7B_Efb"
      },
      "execution_count": null,
      "outputs": []
    },
    {
      "cell_type": "markdown",
      "source": [
        "**Hypothesis 3: Unmarried Customer Category has given more sales than Married Customers**\n"
      ],
      "metadata": {
        "id": "bZ9P1lrf_ZlP"
      }
    },
    {
      "cell_type": "code",
      "source": [
        "# Plotting a pie chart using Matplotlib\n",
        "plt.figure(figsize=(8, 6))\n",
        "\n",
        "# Assuming 'df' is your DataFrame and it has columns 'Product_Category' and 'Amount'\n",
        "# Extract the values for the pie chart from your DataFrame\n",
        "# Get unique product categories and their corresponding total amounts\n",
        "Marital_Status = df.groupby('Marital_Status')['Amount'].sum()\n",
        "print(Marital_Status)\n",
        "#Amount = df.groupby('Marital_Status')['Amount'].sum().values\n",
        "#print(Amount)\n",
        "plt.pie(Amount, labels=Marital_Status, autopct='%1.1f%%', startangle=140)\n",
        "plt.title('Percentage Distribution of Sales by Marital_Status')\n",
        "plt.axis('equal')  # Equal aspect ratio ensures that pie is drawn as a circle.\n",
        "plt.show()"
      ],
      "metadata": {
        "id": "9cmYkSVG_ouf"
      },
      "execution_count": null,
      "outputs": []
    }
  ]
}